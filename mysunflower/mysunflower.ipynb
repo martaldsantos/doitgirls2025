{
 "cells": [
  {
   "cell_type": "markdown",
   "metadata": {},
   "source": [
    "# GirassolGPT🌻\n",
    "Bem-vinda!\n",
    "\n",
    "Agora que já temos a informação real dos vários componentes que afetam o crescimento da tua planta, como é que vamos monitorizar se temos as condições perfeitas para elas se desenvolverem? Vamos criar um ChatGPT que te permitirá perceber o que se passa com elas! Faz as perguntas sobre as condições das tuas plantas, se precisam de mais água, se precisam de mais sol, compara com as condições atmosféricas neste momento em Lisboa, etc.\n",
    "\n",
    "## Prepara o ficheiro \n",
    "1. Se escolheste o girassol, dentro da pasta `mysunflower` adiciona o teu ficheiro CSV com os dados da tua planta.\n",
    "2. Muda o nome do teu ficheiro para `mysunflower.csv`\n",
    "3. No topo do teu ecrã, terás um botão que se chama \"Run All\". Clica neste botão.\n",
    "\n",
    "Nos próximos passos, vais ver algum código. Não te preocupes, não precisas de programar! No entanto, precisas de fazer alguma coisa onde encontrares a palavra \"Ação!\""
   ]
  },
  {
   "cell_type": "code",
   "execution_count": 10,
   "metadata": {},
   "outputs": [
    {
     "data": {
      "text/plain": [
       "True"
      ]
     },
     "execution_count": 10,
     "metadata": {},
     "output_type": "execute_result"
    }
   ],
   "source": [
    "import os\n",
    "import pandas as pd\n",
    "import matplotlib.pyplot as plt\n",
    "import matplotlib.dates as mdates\n",
    "from dotenv import load_dotenv\n",
    "from openai import AzureOpenAI\n",
    "import json\n",
    "from datetime import datetime, timedelta\n",
    "from IPython.display import Markdown, display\n",
    "\n",
    "load_dotenv()"
   ]
  },
  {
   "cell_type": "markdown",
   "metadata": {},
   "source": [
    "De seguida, temos apenas um bocado de código que vai criar 3 gráficos que analisam as 3 variáveis sobre o solo da tua planta ao longo do dia:\n",
    "- Temperatura\n",
    "- Humidadade\n",
    "- Luminosidade\n",
    "\n",
    "Neste passo, não precisas de fazer nada."
   ]
  },
  {
   "cell_type": "code",
   "execution_count": 11,
   "metadata": {},
   "outputs": [],
   "source": [
    "import os\n",
    "import pandas as pd\n",
    "import matplotlib.dates as mdates\n",
    "import matplotlib.pyplot as plt\n",
    "from dotenv import load_dotenv\n",
    "from openai import AzureOpenAI\n",
    "import json\n",
    "from datetime import datetime, timedelta\n",
    "from IPython.display import Markdown, display\n",
    "\n",
    "load_dotenv()\n",
    "df = pd.read_csv('mysunflower.csv')\n",
    "\n",
    "#AÇÃO! Muda aqui os valores correspondentes à data de recolha dos dados\n",
    "start_time = datetime(2025, 3, 17, 15, 0, 0)  # Year, month, day, hour, minute, second\n",
    "\n",
    "df['exact_time'] = df['time (seconds)'].apply(lambda x: (start_time + timedelta(seconds=x)).strftime('%H:%M:%S'))\n",
    "df.to_csv('mysunflower_with_time.csv', index=False)"
   ]
  },
  {
   "cell_type": "code",
   "execution_count": null,
   "metadata": {},
   "outputs": [
    {
     "ename": "ValueError",
     "evalue": "time data \"15:00:01\" doesn't match format \"%Y-%m-%d %H:%M:%S\", at position 0. You might want to try:\n    - passing `format` if your strings have a consistent format;\n    - passing `format='ISO8601'` if your strings are all ISO8601 but not necessarily in exactly the same format;\n    - passing `format='mixed'`, and the format will be inferred for each element individually. You might want to use `dayfirst` alongside this.",
     "output_type": "error",
     "traceback": [
      "\u001b[31m---------------------------------------------------------------------------\u001b[39m",
      "\u001b[31mValueError\u001b[39m                                Traceback (most recent call last)",
      "\u001b[36mCell\u001b[39m\u001b[36m \u001b[39m\u001b[32mIn[12]\u001b[39m\u001b[32m, line 5\u001b[39m\n\u001b[32m      2\u001b[39m data = pd.read_csv(\u001b[33m'\u001b[39m\u001b[33mmysunflower_with_time.csv\u001b[39m\u001b[33m'\u001b[39m)\n\u001b[32m      4\u001b[39m \u001b[38;5;66;03m# Convert the exacttime column to datetime objects for proper plotting\u001b[39;00m\n\u001b[32m----> \u001b[39m\u001b[32m5\u001b[39m data[\u001b[33m'\u001b[39m\u001b[33mexact_time\u001b[39m\u001b[33m'\u001b[39m] = \u001b[43mpd\u001b[49m\u001b[43m.\u001b[49m\u001b[43mto_datetime\u001b[49m\u001b[43m(\u001b[49m\u001b[43mdata\u001b[49m\u001b[43m[\u001b[49m\u001b[33;43m'\u001b[39;49m\u001b[33;43mexact_time\u001b[39;49m\u001b[33;43m'\u001b[39;49m\u001b[43m]\u001b[49m\u001b[43m,\u001b[49m\u001b[43m \u001b[49m\u001b[38;5;28;43mformat\u001b[39;49m\u001b[43m=\u001b[49m\u001b[33;43m'\u001b[39;49m\u001b[33;43m%\u001b[39;49m\u001b[33;43mY-\u001b[39;49m\u001b[33;43m%\u001b[39;49m\u001b[33;43mm-\u001b[39;49m\u001b[38;5;132;43;01m%d\u001b[39;49;00m\u001b[33;43m \u001b[39;49m\u001b[33;43m%\u001b[39;49m\u001b[33;43mH:\u001b[39;49m\u001b[33;43m%\u001b[39;49m\u001b[33;43mM:\u001b[39;49m\u001b[33;43m%\u001b[39;49m\u001b[33;43mS\u001b[39;49m\u001b[33;43m'\u001b[39;49m\u001b[43m)\u001b[49m\n\u001b[32m      7\u001b[39m \u001b[38;5;66;03m# Create some basic visualizations\u001b[39;00m\n\u001b[32m      8\u001b[39m plt.figure(figsize=(\u001b[32m12\u001b[39m, \u001b[32m8\u001b[39m))\n",
      "\u001b[36mFile \u001b[39m\u001b[32mc:\\Users\\martasantos\\OneDrive - Microsoft\\FY25\\doitgirls\\venv\\Lib\\site-packages\\pandas\\core\\tools\\datetimes.py:1067\u001b[39m, in \u001b[36mto_datetime\u001b[39m\u001b[34m(arg, errors, dayfirst, yearfirst, utc, format, exact, unit, infer_datetime_format, origin, cache)\u001b[39m\n\u001b[32m   1065\u001b[39m         result = arg.map(cache_array)\n\u001b[32m   1066\u001b[39m     \u001b[38;5;28;01melse\u001b[39;00m:\n\u001b[32m-> \u001b[39m\u001b[32m1067\u001b[39m         values = \u001b[43mconvert_listlike\u001b[49m\u001b[43m(\u001b[49m\u001b[43marg\u001b[49m\u001b[43m.\u001b[49m\u001b[43m_values\u001b[49m\u001b[43m,\u001b[49m\u001b[43m \u001b[49m\u001b[38;5;28;43mformat\u001b[39;49m\u001b[43m)\u001b[49m\n\u001b[32m   1068\u001b[39m         result = arg._constructor(values, index=arg.index, name=arg.name)\n\u001b[32m   1069\u001b[39m \u001b[38;5;28;01melif\u001b[39;00m \u001b[38;5;28misinstance\u001b[39m(arg, (ABCDataFrame, abc.MutableMapping)):\n",
      "\u001b[36mFile \u001b[39m\u001b[32mc:\\Users\\martasantos\\OneDrive - Microsoft\\FY25\\doitgirls\\venv\\Lib\\site-packages\\pandas\\core\\tools\\datetimes.py:433\u001b[39m, in \u001b[36m_convert_listlike_datetimes\u001b[39m\u001b[34m(arg, format, name, utc, unit, errors, dayfirst, yearfirst, exact)\u001b[39m\n\u001b[32m    431\u001b[39m \u001b[38;5;66;03m# `format` could be inferred, or user didn't ask for mixed-format parsing.\u001b[39;00m\n\u001b[32m    432\u001b[39m \u001b[38;5;28;01mif\u001b[39;00m \u001b[38;5;28mformat\u001b[39m \u001b[38;5;129;01mis\u001b[39;00m \u001b[38;5;129;01mnot\u001b[39;00m \u001b[38;5;28;01mNone\u001b[39;00m \u001b[38;5;129;01mand\u001b[39;00m \u001b[38;5;28mformat\u001b[39m != \u001b[33m\"\u001b[39m\u001b[33mmixed\u001b[39m\u001b[33m\"\u001b[39m:\n\u001b[32m--> \u001b[39m\u001b[32m433\u001b[39m     \u001b[38;5;28;01mreturn\u001b[39;00m \u001b[43m_array_strptime_with_fallback\u001b[49m\u001b[43m(\u001b[49m\u001b[43marg\u001b[49m\u001b[43m,\u001b[49m\u001b[43m \u001b[49m\u001b[43mname\u001b[49m\u001b[43m,\u001b[49m\u001b[43m \u001b[49m\u001b[43mutc\u001b[49m\u001b[43m,\u001b[49m\u001b[43m \u001b[49m\u001b[38;5;28;43mformat\u001b[39;49m\u001b[43m,\u001b[49m\u001b[43m \u001b[49m\u001b[43mexact\u001b[49m\u001b[43m,\u001b[49m\u001b[43m \u001b[49m\u001b[43merrors\u001b[49m\u001b[43m)\u001b[49m\n\u001b[32m    435\u001b[39m result, tz_parsed = objects_to_datetime64(\n\u001b[32m    436\u001b[39m     arg,\n\u001b[32m    437\u001b[39m     dayfirst=dayfirst,\n\u001b[32m   (...)\u001b[39m\u001b[32m    441\u001b[39m     allow_object=\u001b[38;5;28;01mTrue\u001b[39;00m,\n\u001b[32m    442\u001b[39m )\n\u001b[32m    444\u001b[39m \u001b[38;5;28;01mif\u001b[39;00m tz_parsed \u001b[38;5;129;01mis\u001b[39;00m \u001b[38;5;129;01mnot\u001b[39;00m \u001b[38;5;28;01mNone\u001b[39;00m:\n\u001b[32m    445\u001b[39m     \u001b[38;5;66;03m# We can take a shortcut since the datetime64 numpy array\u001b[39;00m\n\u001b[32m    446\u001b[39m     \u001b[38;5;66;03m# is in UTC\u001b[39;00m\n",
      "\u001b[36mFile \u001b[39m\u001b[32mc:\\Users\\martasantos\\OneDrive - Microsoft\\FY25\\doitgirls\\venv\\Lib\\site-packages\\pandas\\core\\tools\\datetimes.py:467\u001b[39m, in \u001b[36m_array_strptime_with_fallback\u001b[39m\u001b[34m(arg, name, utc, fmt, exact, errors)\u001b[39m\n\u001b[32m    456\u001b[39m \u001b[38;5;28;01mdef\u001b[39;00m\u001b[38;5;250m \u001b[39m\u001b[34m_array_strptime_with_fallback\u001b[39m(\n\u001b[32m    457\u001b[39m     arg,\n\u001b[32m    458\u001b[39m     name,\n\u001b[32m   (...)\u001b[39m\u001b[32m    462\u001b[39m     errors: \u001b[38;5;28mstr\u001b[39m,\n\u001b[32m    463\u001b[39m ) -> Index:\n\u001b[32m    464\u001b[39m \u001b[38;5;250m    \u001b[39m\u001b[33;03m\"\"\"\u001b[39;00m\n\u001b[32m    465\u001b[39m \u001b[33;03m    Call array_strptime, with fallback behavior depending on 'errors'.\u001b[39;00m\n\u001b[32m    466\u001b[39m \u001b[33;03m    \"\"\"\u001b[39;00m\n\u001b[32m--> \u001b[39m\u001b[32m467\u001b[39m     result, tz_out = \u001b[43marray_strptime\u001b[49m\u001b[43m(\u001b[49m\u001b[43marg\u001b[49m\u001b[43m,\u001b[49m\u001b[43m \u001b[49m\u001b[43mfmt\u001b[49m\u001b[43m,\u001b[49m\u001b[43m \u001b[49m\u001b[43mexact\u001b[49m\u001b[43m=\u001b[49m\u001b[43mexact\u001b[49m\u001b[43m,\u001b[49m\u001b[43m \u001b[49m\u001b[43merrors\u001b[49m\u001b[43m=\u001b[49m\u001b[43merrors\u001b[49m\u001b[43m,\u001b[49m\u001b[43m \u001b[49m\u001b[43mutc\u001b[49m\u001b[43m=\u001b[49m\u001b[43mutc\u001b[49m\u001b[43m)\u001b[49m\n\u001b[32m    468\u001b[39m     \u001b[38;5;28;01mif\u001b[39;00m tz_out \u001b[38;5;129;01mis\u001b[39;00m \u001b[38;5;129;01mnot\u001b[39;00m \u001b[38;5;28;01mNone\u001b[39;00m:\n\u001b[32m    469\u001b[39m         unit = np.datetime_data(result.dtype)[\u001b[32m0\u001b[39m]\n",
      "\u001b[36mFile \u001b[39m\u001b[32mstrptime.pyx:501\u001b[39m, in \u001b[36mpandas._libs.tslibs.strptime.array_strptime\u001b[39m\u001b[34m()\u001b[39m\n",
      "\u001b[36mFile \u001b[39m\u001b[32mstrptime.pyx:451\u001b[39m, in \u001b[36mpandas._libs.tslibs.strptime.array_strptime\u001b[39m\u001b[34m()\u001b[39m\n",
      "\u001b[36mFile \u001b[39m\u001b[32mstrptime.pyx:583\u001b[39m, in \u001b[36mpandas._libs.tslibs.strptime._parse_with_format\u001b[39m\u001b[34m()\u001b[39m\n",
      "\u001b[31mValueError\u001b[39m: time data \"15:00:01\" doesn't match format \"%Y-%m-%d %H:%M:%S\", at position 0. You might want to try:\n    - passing `format` if your strings have a consistent format;\n    - passing `format='ISO8601'` if your strings are all ISO8601 but not necessarily in exactly the same format;\n    - passing `format='mixed'`, and the format will be inferred for each element individually. You might want to use `dayfirst` alongside this."
     ]
    }
   ],
   "source": [
    "# Read the CSV file with the exacttime column\n",
    "data = pd.read_csv('mysunflower_with_time.csv')\n",
    "\n",
    "# Convert the exacttime column to datetime objects for proper plotting\n",
    "data['exact_time'] = pd.to_datetime(data['exact_time'], format='%H:%M:%S')\n",
    "\n",
    "# Create some basic visualizations\n",
    "plt.figure(figsize=(12, 8))\n",
    "\n",
    "# Format for time display\n",
    "time_fmt = mdates.DateFormatter('%H:%M:%S')\n",
    "\n",
    "plt.subplot(3, 1, 1)\n",
    "plt.plot(data['exact_time'], data['temperature'], 'r-')\n",
    "plt.title('Temperature over Time')\n",
    "plt.ylabel('Temperature')\n",
    "plt.gca().xaxis.set_major_formatter(time_fmt)\n",
    "plt.xticks(rotation=45)\n",
    "\n",
    "plt.subplot(3, 1, 2)\n",
    "plt.plot(data['exact_time'], data['moisture'], 'b-')\n",
    "plt.title('Moisture over Time')\n",
    "plt.ylabel('Moisture')\n",
    "plt.gca().xaxis.set_major_formatter(time_fmt)\n",
    "plt.xticks(rotation=45)\n",
    "\n",
    "plt.subplot(3, 1, 3)\n",
    "plt.plot(data['exact_time'], data['light'], 'g-')\n",
    "plt.title('Light over Time')\n",
    "plt.ylabel('Light')\n",
    "plt.gca().xaxis.set_major_formatter(time_fmt)\n",
    "plt.xticks(rotation=45)\n",
    "\n",
    "plt.tight_layout()\n",
    "plt.show()"
   ]
  },
  {
   "cell_type": "markdown",
   "metadata": {},
   "source": [
    "Agora chegaste à parte mais gira... a criação do SunflowerGPT! O código que vês aqui serve apenas de apoio. Aquilo onde precisas de te focar é no texto que está entre aspas triplas e se chama `system_message`. A mensagem de sistema, serve para tu dizeres ao teu SunflowerGPT como se deve comportar. No texto abaixo consegues já encontrar algumas ideias de como um chat se comporta. Carrega no botão \"Run\" e experimenta esta versão, de seguida voltarás a este código para trazeres mais ideias giras de coisas a implementar."
   ]
  },
  {
   "cell_type": "code",
   "execution_count": null,
   "metadata": {},
   "outputs": [],
   "source": [
    "# Create Azure OpenAI client\n",
    "client = AzureOpenAI(\n",
    "    api_key=os.getenv(\"AZURE_OPENAI_API_KEY\"),  \n",
    "    api_version=\"2023-12-01-preview\",\n",
    "    azure_endpoint=os.getenv(\"AZURE_OPENAI_ENDPOINT\")\n",
    ")\n",
    "\n",
    "# Prepare system message with data context\n",
    "data_summary = data.describe().to_string()\n",
    "data_sample = data.head(10).to_string()\n",
    "with open(\"aboutsunflowers.txt\", \"r\", encoding=\"utf-8\") as file:\n",
    "    aboutsunflower = file.read()\n",
    "\n",
    "system_message = f\"\"\"\n",
    "És um assistente de IA agrícola especializado em horticultura e monitorização da saúde das plantas. \n",
    "Tens acesso aos seguintes dados de sensores de um dispositivo micro:bit que monitoriza uma horta:\n",
    "\n",
    "RESUMO DOS DADOS DO SENSOR:\n",
    "{data_summary}\n",
    "\n",
    "INFORMAÇÕES IMPORTANTES SOBRE O GIRASSOL:\n",
    "{aboutsunflower}\n",
    "\n",
    "DADOS CLIMÁTICOS:\n",
    "São 15h00 em Portugal, em março, e o tempo está ensolarado com uma temperatura de 20°C. A humidade é de 50%. \n",
    "\n",
    "Analisa estes dados para ajudar o utilizador a compreender as condições de crescimento das plantas.\n",
    "Fornece informações sobre:\n",
    "1. Se as condições ambientais são adequadas para a planta em questão (girassol)\n",
    "2. Recomendações para melhorar as condições de cultivo, se necessário\n",
    "3. Interpretação das leituras do sensor\n",
    "4. Sugestões de cuidados a ter com o girassol com base na temperatura e humidade atual em Lisboa\n",
    "\n",
    "Como deve ser estruturada a resposta:\n",
    "- Sê educativo e explica os conceitos claramente aos alunos \n",
    "- Adiciona muitos emojis amigáveis. \n",
    "- Responde em português europeu, podes tratar as pessoas por \"tu\".\n",
    "\"\"\""
   ]
  },
  {
   "cell_type": "markdown",
   "metadata": {},
   "source": [
    "Agora... está na altura de fazer perguntas! No código em baixo consegues ver uma pergunta simples no `user_question`. Carrega no botão `Run`utilizando a pergunta que aqui está. De seguida, volta ao bloco de código acima para alterares as \"ordens\" que dás ao teu BasilGPT ou faz-lhe novas perguntas."
   ]
  },
  {
   "cell_type": "code",
   "execution_count": null,
   "metadata": {},
   "outputs": [
    {
     "data": {
      "text/markdown": [
       "Olá! 🌻 Vamos analisar as condições do teu girassol e ver como ele está a fazer!\n",
       "\n",
       "### 1. Condições Ambientais\n",
       "As condições ambientais que temos são as seguintes:\n",
       "- **Temperatura**: 20°C\n",
       "- **Humidade**: 50%\n",
       "- **Tempo**: Ensolarado\n",
       "\n",
       "**Adequação para o Girassol**: \n",
       "- A temperatura de **20°C** está um pouco abaixo da faixa ideal para girassóis, que é entre **21°C e 26°C**. No entanto, não te preocupes! Girassóis são bastante resilientes e conseguem tolerar temperaturas ligeiramente mais baixas. ☀️\n",
       "- A humidade de **50%** está dentro do intervalo ideal (50% a 70%), o que é ótimo para o teu girassol! 🌿\n",
       "\n",
       "### 2. Recomendações para Melhorar as Condições de Cultivo\n",
       "- **Aumentar a Temperatura**: Se possível, durante o dia, podes colocar o girassol em locais onde receba mais calor, como junto a uma parede virada a sul. Isso ajudará a aumentar a temperatura. 🏡\n",
       "- **Protecção contra Frio**: Se houver risco de temperaturas mais baixas à noite, usa um pano para cobrir a planta e protegê-la de eventuais quedas de temperatura. \n",
       "\n",
       "### 3. Interpretação das Leituras do Sensor\n",
       "Os dados do sensor mostram:\n",
       "- **Temperatura**: 16°C (média das leituras)\n",
       "- **Humidade**: 0% (o que parece indicar um problema, pois não é uma leitura válida)\n",
       "- **Luz**: 128 (a luz parece estar estável, mas não estás a obter leituras de humidade adequadas)\n",
       "\n",
       "**Análise**: A temperatura média está a um nível que pode ser tolerável para o girassol, mas a leitura de humidade não está correta. Poderia ser um erro no sensor ou um problema de calibragem. Verifica se o sensor está a funcionar corretamente! 📉\n",
       "\n",
       "### 4. Sugestões de Cuidados para o Girassol\n",
       "- **Água**: Certifica-te de que o solo está consistentemente húmido, especialmente durante as fases iniciais de crescimento. Evita regar as folhas para prevenir doenças. 💧\n",
       "- **Exposição ao Sol**: Os girassóis precisam de pelo menos 6 a 8 horas de luz solar direta. Aproveita o dia ensolarado e coloca-os numa área bem iluminada! 🌞\n",
       "- **Espaçamento e Circulação de Ar**: Se tiveres mais girassóis, garante que têm espaço suficiente entre eles para permitir uma boa circulação de ar, o que é importante, especialmente em condições de humidade moderada. \n",
       "\n",
       "### Conclusão\n",
       "No geral, as condições para o teu girassol estão a melhorar, embora precise de um bocadinho mais de calor. Com as devidas atenções e cuidados, ele deverá crescer saudável e feliz! 🌻✨ Se tiveres mais perguntas ou precisares de ajuda com algo específico, não hesites em perguntar! 😊"
      ],
      "text/plain": [
       "<IPython.core.display.Markdown object>"
      ]
     },
     "metadata": {},
     "output_type": "display_data"
    }
   ],
   "source": [
    "# Function to call Azure OpenAI\n",
    "def ask_garden_assistant(question):\n",
    "    response = client.chat.completions.create(\n",
    "        model=os.getenv(\"AZURE_OPENAI_MODEL\", \"gpt-4o\"),\n",
    "        messages=[\n",
    "            {\"role\": \"system\", \"content\": system_message},\n",
    "            {\"role\": \"user\", \"content\": question}\n",
    "        ],\n",
    "        temperature=0.7,\n",
    "        max_tokens=800\n",
    "    )\n",
    "    return response.choices[0].message.content\n",
    "\n",
    "# Example usage\n",
    "user_question = \"Como é que está o meu girassol hoje?\"\n",
    "response = ask_garden_assistant(user_question)\n",
    "display(Markdown(response))"
   ]
  }
 ],
 "metadata": {
  "kernelspec": {
   "display_name": "venv",
   "language": "python",
   "name": "python3"
  },
  "language_info": {
   "codemirror_mode": {
    "name": "ipython",
    "version": 3
   },
   "file_extension": ".py",
   "mimetype": "text/x-python",
   "name": "python",
   "nbconvert_exporter": "python",
   "pygments_lexer": "ipython3",
   "version": "3.13.2"
  }
 },
 "nbformat": 4,
 "nbformat_minor": 2
}
